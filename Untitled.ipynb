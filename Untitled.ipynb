{
 "cells": [
  {
   "cell_type": "code",
   "execution_count": 79,
   "metadata": {},
   "outputs": [],
   "source": [
    "import numpy as np\n",
    "import pandas as pd\n",
    "import os\n",
    "from matplotlib import pyplot as plt\n",
    "\n",
    "DATA_DIR = \"./data/\""
   ]
  },
  {
   "cell_type": "markdown",
   "metadata": {},
   "source": [
    "# COVID-19 expansion tracking and Mathematical Model."
   ]
  },
  {
   "cell_type": "markdown",
   "metadata": {},
   "source": [
    "### 0. Introduction and motivation"
   ]
  },
  {
   "cell_type": "markdown",
   "metadata": {},
   "source": [
    "SARS-CoV-2 is a virus belonging to the coronaviruses family that was first detected in Hubei province, Mainland China, in December 2019 and triggered an ongoing global pandemia.\n",
    "Because of the high $R_0$ (estimated between 2 and 3) and the asymptomatic nature of the incubation period, it's necessary to develop mathematical models for prediction, that will prevent further consecuencies by anticipating expansion rate."
   ]
  },
  {
   "cell_type": "markdown",
   "metadata": {},
   "source": [
    "### 1. Preliminary analysis"
   ]
  },
  {
   "cell_type": "markdown",
   "metadata": {},
   "source": [
    "This section is intended to act like a toolbox providing access to resources and data management functions, visualization tools will also be provided."
   ]
  },
  {
   "cell_type": "code",
   "execution_count": 77,
   "metadata": {},
   "outputs": [],
   "source": [
    "columns = [\"Country/Region\",\"Confirmed\",\"Deaths\",\"Recovered\"]\n",
    "data_files = os.listdir(DATA_DIR)\n",
    "\n",
    "\n",
    "def timeEvolution(country):\n",
    "    \"\"\"\n",
    "    Returns a pandas DataFrame with information of a country (Confirmed,Deaths,Recovered) by day\n",
    "    since the beginig of the outbreak.\n",
    "    \n",
    "    params:\n",
    "    \n",
    "        -country (String): target country\n",
    "    \n",
    "    returns:\n",
    "        -Pandas DataFrame if information is available , else None.\n",
    "    \"\"\"\n",
    "    dic = {}\n",
    "    for file in data_files:\n",
    "        key = file.split(\"_\")[0]\n",
    "        df = pd.read_csv(DATA_DIR + file)\n",
    "        indexes = df[\"Country/Region\"] == country #rows associated with country\n",
    "        if any(indexes):\n",
    "            country_data = df[df[\"Country/Region\"] == country][columns].sum() #all records of that country\n",
    "            dic[key]=list(country_data[columns[1:]])\n",
    "        else: #no rows\n",
    "            dic[key]=[0,0,0]\n",
    "    \n",
    "    df = pd.DataFrame.from_dict(dic)\n",
    "    df.index = columns[1:]\n",
    "    return df.transpose()\n",
    "        \n",
    "def worldTimeEvolution(): #about 20s\n",
    "    \"\"\"\n",
    "    Returns a dictionary indexed by country of DataFrames with information about countries since outbreak\n",
    "    \n",
    "    returns:\n",
    "        -dictionatry of pandas DataFrames\n",
    "    \"\"\"\n",
    "    dic = {}\n",
    "    countries = pd.read_csv(DATA_DIR+data_files[-1])[\"Country/Region\"].unique()\n",
    "    for country in countries:\n",
    "        dic[country] = timeEvolution(country)\n",
    "    \n",
    "    return dic\n",
    "\n",
    "country_info = worldTimeEvolution()"
   ]
  },
  {
   "cell_type": "code",
   "execution_count": 92,
   "metadata": {},
   "outputs": [
    {
     "data": {
      "image/png": "[encoded data removed]",
      "text/plain": [
       "<Figure size 432x288 with 1 Axes>"
      ]
     },
     "metadata": {
      "needs_background": "light"
     },
     "output_type": "display_data"
    }
   ],
   "source": [
    "def graphProgression(countryDF,param): #TODO: x axis problem with dates, too messy\n",
    "    \"\"\"\n",
    "    Graphs the progression in time of a given parameter regarding country info\n",
    "    \n",
    "    params:\n",
    "        -countryDF (pandas.DataFrame): info about the country (see timeEvolution or worldTimeEvolution)\n",
    "        -param (String): \"Confirmed\" -> confirmed cases of COVID-19 in country\n",
    "                         \"Deaths\" -> deaths by COVID-19 in country\n",
    "                         \"Recovered\" -> recovered patients in country \n",
    "\n",
    "    \"\"\"\n",
    "    plt.plot(range(len(countryDF)),list(countryDF[param])+162)\n",
    "    plt.title(\"{} COVID-19\".format(param))\n",
    "    plt.show()\n",
    "    \n",
    "graphProgression(country_info[\"Spain\"],\"Confirmed\")\n",
    "    "
   ]
  },
  {
   "cell_type": "code",
   "execution_count": null,
   "metadata": {},
   "outputs": [],
   "source": []
  }
 ],
 "metadata": {
  "kernelspec": {
   "display_name": "Python 3",
   "language": "python",
   "name": "python3"
  },
  "language_info": {
   "codemirror_mode": {
    "name": "ipython",
    "version": 3
   },
   "file_extension": ".py",
   "mimetype": "text/x-python",
   "name": "python",
   "nbconvert_exporter": "python",
   "pygments_lexer": "ipython3",
   "version": "3.7.4"
  }
 },
 "nbformat": 4,
 "nbformat_minor": 2
}
