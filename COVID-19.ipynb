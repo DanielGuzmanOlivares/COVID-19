{
 "cells": [
  {
   "cell_type": "code",
   "execution_count": 64,
   "metadata": {},
   "outputs": [],
   "source": [
    "import numpy as np\n",
    "import pandas as pd\n",
    "import os\n",
    "from matplotlib import pyplot as plt\n",
    "import matplotlib.dates as mdates\n",
    "import matplotlib.axis as ax\n",
    "import requests\n",
    "from bs4 import BeautifulSoup\n",
    "import pandas as pd\n",
    "from datetime import datetime\n",
    "import unicodedata\n",
    "DATA_DIR = \"./data/\"\n",
    "DEMO_DIR = \"./population/\"\n",
    "DEM = \"https://www.populationpyramid.net/\"\n",
    "WEB = \"https://www.worldometers.info/coronavirus/\"\n",
    "\n",
    "MIG = pd.read_csv(\"MIG.csv\",low_memory=False)\n",
    "idx = data[data[\"Country of birth/nationality\"] =='Former Czechoslovakia'].index\n",
    "MIG.drop(idx,inplace=True)\n",
    "\n",
    "DEM_DICT = {}\n",
    "IMM_DICT = {}"
   ]
  },
  {
   "cell_type": "markdown",
   "metadata": {},
   "source": [
    "# COVID-19 expansion tracking and Mathematical Model."
   ]
  },
  {
   "cell_type": "markdown",
   "metadata": {},
   "source": [
    "### 0. Introduction and motivation"
   ]
  },
  {
   "cell_type": "markdown",
   "metadata": {},
   "source": [
    "SARS-CoV-2 is a virus belonging to the coronaviruses family that was first detected in Hubei province, Mainland China, in December 2019 and triggered an ongoing global pandemia.\n",
    "Because of the high $R_0$ (estimated between 2 and 3) and the asymptomatic nature of the incubation period, it's necessary to develop mathematical models for prediction, that will prevent further consecuencies by anticipating expansion rate."
   ]
  },
  {
   "cell_type": "code",
   "execution_count": 65,
   "metadata": {},
   "outputs": [],
   "source": [
    "# Functions to initialize dictionaries for resource mining\n",
    "\n",
    "def lcs(s1,s2): \n",
    "  \n",
    "    m = [[0] * (1 + len(s2)) for i in range(1 + len(s1))]\n",
    "    longest, x_longest = 0, 0\n",
    "    for x in range(1, 1 + len(s1)):\n",
    "        for y in range(1, 1 + len(s2)):\n",
    "            if s1[x - 1] == s2[y - 1]:\n",
    "                m[x][y] = m[x - 1][y - 1] + 1\n",
    "            if m[x][y] > longest:\n",
    "                longest = m[x][y]\n",
    "                x_longest = x\n",
    "            else:\n",
    "                m[x][y] = 0\n",
    "    return s1[x_longest - longest: x_longest]\n",
    "\n",
    "def countryPred(country,possibleCountries): \n",
    "    pred = sorted(possibleCountries,key=lambda x: len(lcs(country.replace(\" \",\"\").replace(\"China,\",\"\").replace(\"North\",\"\").replace(\" China,\",\"\"),x.replace(\" \",\"\").replace(\"China,\",\"\").replace(\" China,\",\"\").replace(\"North\",\"\"))),reverse=True)[0]\n",
    "    return pred\n",
    "\n",
    "\n",
    "def genDic(option):\n",
    "    realtime_countries = list(realTimeEvolution()['Country'].values)\n",
    "    if option == \"IMM\":\n",
    "        possibleCountries = MIG[\"Country of birth/nationality\"].unique()\n",
    "    elif option == \"DEM\":\n",
    "        possibleCountries = [file.split(\".csv\")[0] for file in os.listdir(DEMO_DIR)]\n",
    "    \n",
    "    countries = [(country,countryPred(country,possibleCountries)) for country in realtime_countries]\n",
    "    trash = ['Monaco', 'San Marino', 'Faeroe Islands', 'Andorra', 'Diamond Princess', 'Taiwan', 'Gibraltar', 'Vatican City', 'Liechtenstein']\n",
    "    dic = {}\n",
    "    for country,pred in countries:\n",
    "        if country not in pred:\n",
    "            if country == \"USA\":\n",
    "                if option == \"IMM\":\n",
    "                    pred = \"United States\" #change\n",
    "                elif option == \"DEM\":\n",
    "                    pred == \"United States of America\"\n",
    "            elif country == \"UK\":\n",
    "                pred = \"United Kingdom\"\n",
    "            elif country == \"UAE\":\n",
    "                pred = \"United Arab Emirates\"\n",
    "            elif country in trash:\n",
    "                continue\n",
    "            else:\n",
    "                dic[country] = pred\n",
    "\n",
    "        dic[country] = pred\n",
    "\n",
    "    return dic\n",
    "\n",
    "#NOTE: Take her to Alice in Wonderland Ballet\n",
    "\n",
    "IMM_DICT = genDic(\"IMM\")\n",
    "DEM_DICT = genDic(\"DEM\")"
   ]
  },
  {
   "cell_type": "markdown",
   "metadata": {},
   "source": [
    "### 1. Preliminary analysis"
   ]
  },
  {
   "cell_type": "markdown",
   "metadata": {},
   "source": [
    "This section is intended to act like a toolbox providing access to resources and data management functions, visualization tools will also be provided."
   ]
  },
  {
   "cell_type": "markdown",
   "metadata": {},
   "source": [
    "#### 1.1 Time Tracking and real time evolution"
   ]
  },
  {
   "cell_type": "code",
   "execution_count": 4,
   "metadata": {},
   "outputs": [],
   "source": [
    "columns = [\"Country/Region\",\"Confirmed\",\"Deaths\",\"Recovered\"]"
   ]
  },
  {
   "cell_type": "code",
   "execution_count": 5,
   "metadata": {},
   "outputs": [],
   "source": [
    "def timeEvolution(country):\n",
    "    data_files = sorted(os.listdir(DATA_DIR))\n",
    "    \"\"\"\n",
    "    Returns a pandas DataFrame with information of a country (Confirmed,Deaths,Recovered) by day\n",
    "    since the beginig of the outbreak.\n",
    "    \n",
    "    params:\n",
    "    \n",
    "        -country (String): target country\n",
    "    \n",
    "    returns:\n",
    "        -Pandas DataFrame if information is available , else None.\n",
    "    \"\"\"\n",
    "    dic = []\n",
    "    for file in data_files:\n",
    "        key = file.split(\".csv\")[0]\n",
    "        df = pd.read_csv(DATA_DIR + file)\n",
    "        indexes = df[\"Country/Region\"] == country #rows associated with country\n",
    "        if any(indexes):\n",
    "            country_data = df[df[\"Country/Region\"] == country][columns].sum() #all records of that country\n",
    "            dic.append([key]+list(country_data[columns[1:]]))\n",
    "        else: #no rows\n",
    "            dic.append([key,0,0,0])\n",
    "    \n",
    "    df = pd.DataFrame(dic)\n",
    "    df.columns = [\"Date\"]+columns[1:]\n",
    "    return df\n",
    "        \n",
    "def worldTimeEvolution(): #about 20s\n",
    "    data_files = sorted(os.listdir(DATA_DIR))\n",
    "    \"\"\"\n",
    "    Returns a dictionary indexed by country of DataFrames with information about countries since outbreak\n",
    "    \n",
    "    returns:\n",
    "        -dictionatry of pandas DataFrames\n",
    "    \"\"\"\n",
    "    dic = {}\n",
    "    countries = pd.read_csv(DATA_DIR+data_files[-1])[\"Country/Region\"].unique()\n",
    "    for country in countries:\n",
    "        dic[country] = timeEvolution(country)  \n",
    "    return dic"
   ]
  },
  {
   "cell_type": "code",
   "execution_count": 76,
   "metadata": {},
   "outputs": [
    {
     "data": {
      "image/png": "[encoded data removed]",
      "text/plain": [
       "<Figure size 432x288 with 1 Axes>"
      ]
     },
     "metadata": {
      "needs_background": "light"
     },
     "output_type": "display_data"
    }
   ],
   "source": [
    "def graphProgression(countryDF,param): #TODO: x axis problem with dates, too messy\n",
    "    \"\"\"\n",
    "    Graphs the progression in time of a given parameter regarding country info\n",
    "    \n",
    "    params:\n",
    "        -countryDF (pandas.DataFrame): info about the country (see timeEvolution or worldTimeEvolution)\n",
    "        -param (String): \"Confirmed\" -> confirmed cases of COVID-19 in country\n",
    "                         \"Deaths\" -> deaths by COVID-19 in country\n",
    "                         \"Recovered\" -> recovered patients in country \n",
    "\n",
    "    \"\"\"\n",
    "   \n",
    "    x = range(len(countryDF[\"Date\"]))\n",
    "    y = list(countryDF[param].astype(int))\n",
    "    plt.plot(x,y)\n",
    "    \n",
    "    y_max = max(y)\n",
    "    if y_max < 10:\n",
    "        plt.yticks(range(0,max(y)+1,1))\n",
    "    else:\n",
    "        plt.yticks(range(0,max(y)+1,max(y)//10))\n",
    "    plt.title(\"{} COVID-19\".format(param))\n",
    "    plt.ylabel(param)\n",
    "    plt.xlabel(\"Days from outbreak\")\n",
    "    plt.show()\n",
    "\n",
    "graphProgression(timeEvolution(\"UK\"),\"Deaths\")"
   ]
  },
  {
   "cell_type": "code",
   "execution_count": 29,
   "metadata": {},
   "outputs": [],
   "source": [
    "def realTimeEvolution():\n",
    "    \"\"\"\n",
    "    Returns a Pandas DataFrame with infomration about the real time expansion of the virus.\n",
    "    \n",
    "    returns:\n",
    "        -pandas Dataframe\n",
    "    \"\"\"\n",
    "    cols = [\"Country\",\"Total Cases\",\"New Cases\",\"Total Deaths\",\"New Deaths\",\"Active Cases\",\"Total Recovered\",\"Critical\",\"Tot Cases/1 M Pop\"]\n",
    "    page = requests.get(WEB)\n",
    "    soup = BeautifulSoup(page.content, 'html.parser')\n",
    "    countryTable = soup.find_all('tbody')[0]\n",
    "    rows = countryTable.find_all(\"tr\")\n",
    "    data =[]\n",
    "    for row in rows:\n",
    "        info = row.find_all(\"td\")\n",
    "        \n",
    "        data.append([data.text.strip().replace(\",\",\"\") if data.text.strip() != \"\" else \"0\" for data in info])\n",
    "    table = pd.DataFrame(data,columns=cols)\n",
    "    #drop row 'Total:' as of now\n",
    "    table.drop(table.tail(1).index, inplace=True)\n",
    "    return table\n",
    "\n",
    "def updateData():\n",
    "    \"\"\"\n",
    "    Stores today's evolution data in csv format\n",
    "    \n",
    "    \"\"\"\n",
    "    df = realTimeEvolution()[[\"Country\",\"Total Cases\",\"Total Deaths\",\"Total Recovered\"]]\n",
    "    df.columns=columns\n",
    "    now = datetime.now()\n",
    "    df.to_csv(DATA_DIR+now.strftime(\"%Y-%m-%d-%H-%M.csv\"))"
   ]
  },
  {
   "cell_type": "markdown",
   "metadata": {},
   "source": [
    "#### 1.2 Demography by country"
   ]
  },
  {
   "cell_type": "code",
   "execution_count": 61,
   "metadata": {
    "scrolled": true
   },
   "outputs": [
    {
     "data": {
      "image/png": "[encoded data removed]",
      "text/plain": [
       "<Figure size 432x288 with 1 Axes>"
      ]
     },
     "metadata": {
      "needs_background": "light"
     },
     "output_type": "display_data"
    }
   ],
   "source": [
    "def saveDemography():\n",
    "    \"\"\"\n",
    "    Mines https://www.populationpyramid.net and saves population pyramids \n",
    "    in csv files stored in the population directory\n",
    "    \"\"\"\n",
    "    #TODO mine https://www.populationpyramid.net/<country>/2019/ , they have download by link, need to know country number, explore HTML + wget\n",
    "    DEM = \"https://www.populationpyramid.net/\"\n",
    "    html_page = requests.get(DEM)\n",
    "    soup = BeautifulSoup(html_page.content, 'html.parser')\n",
    "    page_data = soup.find_all(class_='countryLink')\n",
    "    l = []\n",
    "    if not os.path.exists(DEMO_DIR):\n",
    "        os.makedirs(DEMO_DIR)\n",
    "    for country in page_data:\n",
    "        d = {}\n",
    "        aux = country.contents[0]\n",
    "        if (aux == \"Australia/New Zealand\"):\n",
    "            aux = \"New Zealand\"\n",
    "        d['Country'] = aux[1:].lower()\n",
    "        d['ID'] = country['country']\n",
    "        l.append(d)\n",
    "        \n",
    "    for country in l:\n",
    "        c, ids = country.get(\"Country\"), country.get(\"ID\")\n",
    "        CSV = \"https://www.populationpyramid.net/api/pp/\"+ids+\"/2019?csv=true\"\n",
    "        r = requests.get(CSV)\n",
    "        filename = c+\".csv\"\n",
    "        file_path = os.path.join(DEMO_DIR, filename)\n",
    "        if r.ok:\n",
    "            print(filename + \" : saving data to ... \", os.path.abspath(DEMO_DIR))\n",
    "            with open(file_path, 'wb') as f:\n",
    "                for chunk in r.iter_content(chunk_size=1024 * 8):\n",
    "                    if chunk:\n",
    "                        f.write(chunk)\n",
    "                        f.flush()\n",
    "                        os.fsync(f.fileno())\n",
    "        else:  # HTTP status code 4XX/5XX\n",
    "            print(\"Download failed: status code {}\\n{}\".format(r.status_code, r.text))\n",
    "    \n",
    "\n",
    "def getDemography(country_info):\n",
    "    \"\"\"\n",
    "    Gets the population pyramid of a given country\n",
    "    \n",
    "    params:\n",
    "        - country_info (string): name of the country (assuming notation)\n",
    "    returns:\n",
    "        pandas.DataFrame\n",
    "    \"\"\"\n",
    "    country_info = DEM_DICT[country_info]\n",
    "    file = country_info+\".csv\"\n",
    "    df = pd.read_csv(DEMO_DIR + file)\n",
    "    return df\n",
    "\n",
    "def plotDemography(country_info):\n",
    "    \"\"\"\n",
    "    Plots the demography pyramid of a country separeted by sex\n",
    "    \n",
    "    params:\n",
    "        - country_info (string): name of the country (assuming notation)\n",
    "    \"\"\"\n",
    "    df = getDemography(country_info)\n",
    "    a = df.plot\n",
    "    a.bar(x='Age',rot=55)\n",
    "\n",
    "\n",
    "country_info=\"UK\"\n",
    "plotDemography(country_info)\n"
   ]
  },
  {
   "cell_type": "markdown",
   "metadata": {},
   "source": [
    "#### 1.3 Immigration flow information"
   ]
  },
  {
   "cell_type": "code",
   "execution_count": null,
   "metadata": {},
   "outputs": [
    {
     "name": "stderr",
     "output_type": "stream",
     "text": [
      "/usr/local/lib/python3.7/site-packages/ipykernel_launcher.py:13: UserWarning: Boolean Series key will be reindexed to match DataFrame index.\n",
      "  del sys.path[0]\n"
     ]
    }
   ],
   "source": [
    "def __immigration(c_from,c_to):\n",
    "    \"\"\"\n",
    "    Gets information of incoming immigrants from a country to another in time.\n",
    "    \n",
    "    params:\n",
    "        - c_from : country of departure \n",
    "        - c_to: country of arrival (assuming notation)\n",
    "    returns:\n",
    "        - pandas.DataFrame\n",
    "    \"\"\"\n",
    "    c_to = IMM_DICT[c_to]\n",
    "    cols = [\"Year\",\"Value\"]\n",
    "    df = data[(MIG[\"VAR\"]==\"B11\") & (MIG[\"Country of birth/nationality\"]==c_from) &((MIG[\"Country\"]==c_to))][cols] \n",
    "    df.set_index(\"Year\",inplace=True)\n",
    "    return df\n",
    "\n",
    "def immigrationTo(country):\n",
    "    \"\"\"\n",
    "    Returns the immigration flow to a country by immigrant nationality\n",
    "    \n",
    "    params:\n",
    "        -country: destination country (assuming notation)\n",
    "    returns:\n",
    "        pandas.DataFrame\n",
    "    \"\"\"\n",
    "    l = []\n",
    "    for c_from in data[\"Country of birth/nationality\"].unique():\n",
    "        if c_from == \"Stateless\" or c_from == \"Total\" or c_from == \"Unknown\":\n",
    "            continue\n",
    "        else:\n",
    "            df = __immigration(c_from,country)\n",
    "            if not df.empty and df.iloc[-1][\"Value\"] != 0:\n",
    "                l.append([c_from,df.iloc[-1][\"Value\"]])\n",
    "    ret = pd.DataFrame(l,columns=[\"Country\",\"People\"])\n",
    "    ret.set_index(\"Country\",inplace=True)\n",
    "    return ret\n",
    "            \n",
    "immigrationTo(\"USA\")"
   ]
  },
  {
   "cell_type": "code",
   "execution_count": null,
   "metadata": {},
   "outputs": [],
   "source": []
  }
 ],
 "metadata": {
  "kernelspec": {
   "display_name": "Python 3",
   "language": "python",
   "name": "python3"
  },
  "language_info": {
   "codemirror_mode": {
    "name": "ipython",
    "version": 3
   },
   "file_extension": ".py",
   "mimetype": "text/x-python",
   "name": "python",
   "nbconvert_exporter": "python",
   "pygments_lexer": "ipython3",
   "version": "3.7.4"
  }
 },
 "nbformat": 4,
 "nbformat_minor": 2
}
