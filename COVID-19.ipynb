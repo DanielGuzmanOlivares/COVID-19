{
 "cells": [
  {
   "cell_type": "code",
   "execution_count": 15,
   "metadata": {},
   "outputs": [],
   "source": [
    "import numpy as np\n",
    "import pandas as pd\n",
    "import os\n",
    "from matplotlib import pyplot as plt\n",
    "import matplotlib.dates as mdates\n",
    "import matplotlib.axis as ax\n",
    "import requests\n",
    "from bs4 import BeautifulSoup\n",
    "import pandas as pd\n",
    "from datetime import datetime\n",
    "import unicodedata\n",
    "DATA_DIR = \"./data/\"\n",
    "DEMO_DIR = \"./population/\"\n",
    "DEM = \"https://www.populationpyramid.net/\"\n",
    "WEB = \"https://www.worldometers.info/coronavirus/\""
   ]
  },
  {
   "cell_type": "markdown",
   "metadata": {},
   "source": [
    "# COVID-19 expansion tracking and Mathematical Model."
   ]
  },
  {
   "cell_type": "markdown",
   "metadata": {},
   "source": [
    "### 0. Introduction and motivation"
   ]
  },
  {
   "cell_type": "markdown",
   "metadata": {},
   "source": [
    "SARS-CoV-2 is a virus belonging to the coronaviruses family that was first detected in Hubei province, Mainland China, in December 2019 and triggered an ongoing global pandemia.\n",
    "Because of the high $R_0$ (estimated between 2 and 3) and the asymptomatic nature of the incubation period, it's necessary to develop mathematical models for prediction, that will prevent further consecuencies by anticipating expansion rate."
   ]
  },
  {
   "cell_type": "markdown",
   "metadata": {},
   "source": [
    "### 1. Preliminary analysis"
   ]
  },
  {
   "cell_type": "markdown",
   "metadata": {},
   "source": [
    "This section is intended to act like a toolbox providing access to resources and data management functions, visualization tools will also be provided."
   ]
  },
  {
   "cell_type": "code",
   "execution_count": 2,
   "metadata": {},
   "outputs": [],
   "source": [
    "columns = [\"Country/Region\",\"Confirmed\",\"Deaths\",\"Recovered\"]"
   ]
  },
  {
   "cell_type": "code",
   "execution_count": 3,
   "metadata": {},
   "outputs": [],
   "source": [
    "def timeEvolution(country):\n",
    "    data_files = sorted(os.listdir(DATA_DIR))\n",
    "    \"\"\"\n",
    "    Returns a pandas DataFrame with information of a country (Confirmed,Deaths,Recovered) by day\n",
    "    since the beginig of the outbreak.\n",
    "    \n",
    "    params:\n",
    "    \n",
    "        -country (String): target country\n",
    "    \n",
    "    returns:\n",
    "        -Pandas DataFrame if information is available , else None.\n",
    "    \"\"\"\n",
    "    dic = []\n",
    "    for file in data_files:\n",
    "        key = file.split(\".csv\")[0]\n",
    "        df = pd.read_csv(DATA_DIR + file)\n",
    "        indexes = df[\"Country/Region\"] == country #rows associated with country\n",
    "        if any(indexes):\n",
    "            country_data = df[df[\"Country/Region\"] == country][columns].sum() #all records of that country\n",
    "            dic.append([key]+list(country_data[columns[1:]]))\n",
    "        else: #no rows\n",
    "            dic.append([key,0,0,0])\n",
    "    \n",
    "    df = pd.DataFrame(dic)\n",
    "    df.columns = [\"Date\"]+columns[1:]\n",
    "    return df\n",
    "        \n",
    "def worldTimeEvolution(): #about 20s\n",
    "    data_files = sorted(os.listdir(DATA_DIR))\n",
    "    \"\"\"\n",
    "    Returns a dictionary indexed by country of DataFrames with information about countries since outbreak\n",
    "    \n",
    "    returns:\n",
    "        -dictionatry of pandas DataFrames\n",
    "    \"\"\"\n",
    "    dic = {}\n",
    "    countries = pd.read_csv(DATA_DIR+data_files[-1])[\"Country/Region\"].unique()\n",
    "    for country in countries:\n",
    "        dic[country] = timeEvolution(country)  \n",
    "    return dic"
   ]
  },
  {
   "cell_type": "code",
   "execution_count": 4,
   "metadata": {},
   "outputs": [
    {
     "data": {
      "text/plain": [
       "\"\\nIgnore\\n\\ndef deleteUnnamed():\\n    data_files = sorted(os.listdir(DATA_DIR))\\n    for file in data_files:\\n        df = pd.read_csv(DATA_DIR + file)\\n        df = df.loc[:, ~df.columns.str.contains('^Unnamed')]\\n        df.to_csv(DATA_DIR+file, mode='w', header=True)\\ndeleteUnnamed()\\n\""
      ]
     },
     "execution_count": 4,
     "metadata": {},
     "output_type": "execute_result"
    }
   ],
   "source": [
    "\"\"\"\n",
    "Ignore\n",
    "\n",
    "def deleteUnnamed():\n",
    "    data_files = sorted(os.listdir(DATA_DIR))\n",
    "    for file in data_files:\n",
    "        df = pd.read_csv(DATA_DIR + file)\n",
    "        df = df.loc[:, ~df.columns.str.contains('^Unnamed')]\n",
    "        df.to_csv(DATA_DIR+file, mode='w', header=True)\n",
    "deleteUnnamed()\n",
    "\"\"\""
   ]
  },
  {
   "cell_type": "code",
   "execution_count": 5,
   "metadata": {},
   "outputs": [],
   "source": [
    "def graphProgression(countryDF,param): #TODO: x axis problem with dates, too messy\n",
    "    \"\"\"\n",
    "    Graphs the progression in time of a given parameter regarding country info\n",
    "    \n",
    "    params:\n",
    "        -countryDF (pandas.DataFrame): info about the country (see timeEvolution or worldTimeEvolution)\n",
    "        -param (String): \"Confirmed\" -> confirmed cases of COVID-19 in country\n",
    "                         \"Deaths\" -> deaths by COVID-19 in country\n",
    "                         \"Recovered\" -> recovered patients in country \n",
    "\n",
    "    \"\"\"\n",
    "   \n",
    "    x = range(len(countryDF[\"Date\"]))\n",
    "    y = list(countryDF[param].astype(int))\n",
    "    plt.plot(x,y)\n",
    "    \n",
    "    plt.yticks(range(0,max(y)+1,max(y)//10))\n",
    "    plt.title(\"{} COVID-19\".format(param))\n",
    "    plt.ylabel(param)\n",
    "    plt.xlabel(\"Days from outbreak\")\n",
    "    plt.show()"
   ]
  },
  {
   "cell_type": "code",
   "execution_count": 6,
   "metadata": {},
   "outputs": [],
   "source": [
    "def realTimeEvolution():\n",
    "    \"\"\"\n",
    "    Returns a Pandas DataFrame with infomration about the real time expansion of the virus.\n",
    "    \n",
    "    returns:\n",
    "        -pandas Dataframe\n",
    "    \"\"\"\n",
    "    cols = [\"Country\",\"Total Cases\",\"New Cases\",\"Total Deaths\",\"New Deaths\",\"Active Cases\",\"Total Recovered\",\"Critical\"]\n",
    "    page = requests.get(WEB)\n",
    "    soup = BeautifulSoup(page.content, 'html.parser')\n",
    "    countryTable = soup.find_all('tbody')[0]\n",
    "    rows = countryTable.find_all(\"tr\")\n",
    "    data =[]\n",
    "    for row in rows:\n",
    "        info = row.find_all(\"td\")\n",
    "        \n",
    "        data.append([data.text.strip().replace(\",\",\"\") if data.text.strip() != \"\" else \"0\" for data in info])\n",
    "    table = pd.DataFrame(data,columns=cols)\n",
    "    #drop row 'Total:' as of now\n",
    "    table.drop(table.tail(1).index, inplace=True)\n",
    "    return table\n",
    "\n",
    "def updateData():\n",
    "    \"\"\"\n",
    "    Stores today's evolution data in csv format\n",
    "    \n",
    "    \"\"\"\n",
    "    df = realTimeEvolution()[[\"Country\",\"Total Cases\",\"Total Deaths\",\"Total Recovered\"]]\n",
    "    df.columns=columns\n",
    "    now = datetime.now()\n",
    "    df.to_csv(DATA_DIR+now.strftime(\"%Y-%m-%d-%H-%M.csv\"))"
   ]
  },
  {
   "cell_type": "code",
   "execution_count": 7,
   "metadata": {},
   "outputs": [],
   "source": [
    "#local=pd.read_csv(\"data/2020-02-25-22-00.csv\")\n",
    "#local = local.loc[:, ~local.columns.str.contains('^Unnamed')]\n",
    "#local\n",
    "#updateData()"
   ]
  },
  {
   "cell_type": "code",
   "execution_count": 8,
   "metadata": {
    "scrolled": true
   },
   "outputs": [
    {
     "data": {
      "image/png": "[encoded data removed]",
      "text/plain": [
       "<Figure size 432x288 with 1 Axes>"
      ]
     },
     "metadata": {
      "needs_background": "light"
     },
     "output_type": "display_data"
    }
   ],
   "source": [
    "def saveDemography():\n",
    "    #TODO mine https://www.populationpyramid.net/<country>/2019/ , they have download by link, need to know country number, explore HTML + wget\n",
    "    DEM = \"https://www.populationpyramid.net/\"\n",
    "    html_page = requests.get(DEM)\n",
    "    soup = BeautifulSoup(html_page.content, 'html.parser')\n",
    "    page_data = soup.find_all(class_='countryLink')\n",
    "    l = []\n",
    "    if not os.path.exists(DEMO_DIR):\n",
    "        os.makedirs(DEMO_DIR)\n",
    "    for country in page_data:\n",
    "        d = {}\n",
    "        aux = country.contents[0]\n",
    "        \n",
    "        if (aux == \"Australia/New Zealand\"):\n",
    "            aux = \"New Zealand\"\n",
    "        d['Country'] = aux\n",
    "        d['ID'] = country['country']\n",
    "        l.append(d)\n",
    "        \n",
    "    for country in l:\n",
    "        c, ids = country.get(\"Country\"), country.get(\"ID\")\n",
    "        CSV = \"https://www.populationpyramid.net/api/pp/\"+ids+\"/2019?csv=true\"\n",
    "        r = requests.get(CSV)\n",
    "        filename = c+\".csv\"\n",
    "        file_path = os.path.join(DEMO_DIR, filename)\n",
    "        if r.ok:\n",
    "            print(filename + \" : saving data to ... \", os.path.abspath(DEMO_DIR))\n",
    "            with open(file_path, 'wb') as f:\n",
    "                for chunk in r.iter_content(chunk_size=1024 * 8):\n",
    "                    if chunk:\n",
    "                        f.write(chunk)\n",
    "                        f.flush()\n",
    "                        os.fsync(f.fileno())\n",
    "        else:  # HTTP status code 4XX/5XX\n",
    "            print(\"Download failed: status code {}\\n{}\".format(r.status_code, r.text))\n",
    "    \n",
    "\n",
    "def getDemography(country_info):\n",
    "    file = country_info+\".csv\"\n",
    "    df = pd.read_csv(DEMO_DIR + file)\n",
    "    return df\n",
    "\n",
    "def plotDemography(country_info):\n",
    "    df = getDemography(country_info)\n",
    "    a = df.plot\n",
    "    a.bar(x='Age',rot=55)\n",
    "\n",
    "def getInmigrationData(country):\n",
    "    pass #no clue from where\n",
    "\n",
    "country_info=\"Argentina\"\n",
    "plotDemography(country_info)\n"
   ]
  },
  {
   "cell_type": "code",
   "execution_count": 9,
   "metadata": {},
   "outputs": [
    {
     "data": {
      "text/plain": [
       "'\\ncountry_info = worldTimeEvolution()\\nA  = set(realTimeEvolution()[\"Country\"])\\nB = set(country_info.keys())\\ntranslate = {\"Macau\":\"Macao\",\"South Korea\":\"S. Korea\",\"US\":\"USA\",\"United Arab Emirates\":\"UAE\",\"Mainland China\":\"China\",\"State of Palestine\":\"Palestine\"}\\nfor file in data_files:\\n    df = pd.read_csv(DATA_DIR+file)\\n    for country in translate:\\n        df[\"Country/Region\"].replace(country,translate[country],inplace=True)\\n    df.to_csv(DATA_DIR+file)\\n\\n\\ndays = {}\\nfor file in data_files:\\n    sp = file.split(\".\")[0].split(\"-\")\\n    day = \"-\".join(sp[:3])\\n    if day not in days:\\n        days[day]=[file]\\n    else:\\n        days[day]+=[file]\\nlasts = [sorted(l,reverse=True)[0] for l in days.values()]\\n\\nfor file in data_files:\\n    if file not in lasts:\\n        os.system(\"rm \"+DATA_DIR+file)\\n    \\n'"
      ]
     },
     "execution_count": 9,
     "metadata": {},
     "output_type": "execute_result"
    }
   ],
   "source": [
    "# For making real time source and dash-2019-new-coronavirus data repo\n",
    "\"\"\"\n",
    "country_info = worldTimeEvolution()\n",
    "A  = set(realTimeEvolution()[\"Country\"])\n",
    "B = set(country_info.keys())\n",
    "translate = {\"Macau\":\"Macao\",\"South Korea\":\"S. Korea\",\"US\":\"USA\",\"United Arab Emirates\":\"UAE\",\"Mainland China\":\"China\",\"State of Palestine\":\"Palestine\"}\n",
    "for file in data_files:\n",
    "    df = pd.read_csv(DATA_DIR+file)\n",
    "    for country in translate:\n",
    "        df[\"Country/Region\"].replace(country,translate[country],inplace=True)\n",
    "    df.to_csv(DATA_DIR+file)\n",
    "\n",
    "\n",
    "days = {}\n",
    "for file in data_files:\n",
    "    sp = file.split(\".\")[0].split(\"-\")\n",
    "    day = \"-\".join(sp[:3])\n",
    "    if day not in days:\n",
    "        days[day]=[file]\n",
    "    else:\n",
    "        days[day]+=[file]\n",
    "lasts = [sorted(l,reverse=True)[0] for l in days.values()]\n",
    "\n",
    "for file in data_files:\n",
    "    if file not in lasts:\n",
    "        os.system(\"rm \"+DATA_DIR+file)\n",
    "    \n",
    "\"\"\""
   ]
  },
  {
   "cell_type": "code",
   "execution_count": 18,
   "metadata": {
    "scrolled": true
   },
   "outputs": [
    {
     "data": {
      "image/png": "[encoded data removed]",
      "text/plain": [
       "<Figure size 432x288 with 1 Axes>"
      ]
     },
     "metadata": {
      "needs_background": "light"
     },
     "output_type": "display_data"
    }
   ],
   "source": [
    "graphProgression(timeEvolution(\"Spain\"),\"Confirmed\")"
   ]
  },
  {
   "cell_type": "code",
   "execution_count": 21,
   "metadata": {},
   "outputs": [],
   "source": [
    "def remove_accents(input_str):\n",
    "    nfkd_form = unicodedata.normalize('NFKD', input_str)\n",
    "    only_ascii = nfkd_form.encode('ASCII', 'ignore')\n",
    "    return only_ascii.decode(\"utf-8\")\n",
    "\n",
    "def getDictionary():\n",
    "    translate_countries = {}\n",
    "    html_page = requests.get(DEM)\n",
    "    soup = BeautifulSoup(html_page.content, 'html.parser')\n",
    "    page_data = soup.find_all(class_='countryLink')\n",
    "    for country in page_data:\n",
    "        possibilities = []\n",
    "        aux = country.contents[0]\n",
    "        if (aux == \"Australia/New Zealand\"):\n",
    "            aux = \"New Zealand\"\n",
    "        possibilities.append(aux)\n",
    "        possibilities.append(aux.lower())\n",
    "        possibilities.append(aux.upper())\n",
    "        if (aux.find(\"(\")!=-1):\n",
    "            new = aux.split(\" (\")\n",
    "            possibilities.append(new[0])\n",
    "        if (aux.find(\"United Kingdom\")!=-1):\n",
    "            new = [\"U.K.\", \"u.k.\", \"UK\", \"uk\"]\n",
    "            possibilities.extend(new)\n",
    "        if (aux.find(\"United States of America\")!=-1):\n",
    "            new = [\"U.S.A.\", \"u.s.a.\", \"usa\", \"USA\"]\n",
    "            possibilities.extend(new)\n",
    "        new = remove_accents(aux)\n",
    "        if (new != aux):\n",
    "            possibilities.append(new)\n",
    "            possibilities.append(remove_accents(aux).lower())\n",
    "            possibilities.append(remove_accents(aux).upper())\n",
    "        translate_countries[aux] = possibilities\n",
    "    return translate_countries\n",
    "\n",
    "def searchCountry(country_info):\n",
    "    translate_countries = getDictionary()\n",
    "    for country in translate_countries.items():\n",
    "        k, v = country\n",
    "        if any(country_info in s for s in v):\n",
    "            return str(k)"
   ]
  },
  {
   "cell_type": "code",
   "execution_count": 28,
   "metadata": {},
   "outputs": [
    {
     "data": {
      "text/plain": [
       "'Japan'"
      ]
     },
     "execution_count": 28,
     "metadata": {},
     "output_type": "execute_result"
    }
   ],
   "source": [
    "searchCountry(\"japan\")."
   ]
  },
  {
   "cell_type": "code",
   "execution_count": 30,
   "metadata": {},
   "outputs": [
    {
     "ename": "TypeError",
     "evalue": "string indices must be integers",
     "output_type": "error",
     "traceback": [
      "\u001b[0;31m---------------------------------------------------------------------------\u001b[0m",
      "\u001b[0;31mTypeError\u001b[0m                                 Traceback (most recent call last)",
      "\u001b[0;32m<ipython-input-30-8921d0ba277f>\u001b[0m in \u001b[0;36m<module>\u001b[0;34m\u001b[0m\n\u001b[0;32m----> 1\u001b[0;31m \u001b[0mgraphProgression\u001b[0m\u001b[0;34m(\u001b[0m\u001b[0msearchCountry\u001b[0m\u001b[0;34m(\u001b[0m\u001b[0;34m\"japan\"\u001b[0m\u001b[0;34m)\u001b[0m\u001b[0;34m,\u001b[0m\u001b[0;34m\"Confirmed\"\u001b[0m\u001b[0;34m)\u001b[0m\u001b[0;34m\u001b[0m\u001b[0;34m\u001b[0m\u001b[0m\n\u001b[0m",
      "\u001b[0;32m<ipython-input-5-c379c58ff90d>\u001b[0m in \u001b[0;36mgraphProgression\u001b[0;34m(countryDF, param)\u001b[0m\n\u001b[1;32m     11\u001b[0m     \"\"\"\n\u001b[1;32m     12\u001b[0m \u001b[0;34m\u001b[0m\u001b[0m\n\u001b[0;32m---> 13\u001b[0;31m     \u001b[0mx\u001b[0m \u001b[0;34m=\u001b[0m \u001b[0mrange\u001b[0m\u001b[0;34m(\u001b[0m\u001b[0mlen\u001b[0m\u001b[0;34m(\u001b[0m\u001b[0mcountryDF\u001b[0m\u001b[0;34m[\u001b[0m\u001b[0;34m\"Date\"\u001b[0m\u001b[0;34m]\u001b[0m\u001b[0;34m)\u001b[0m\u001b[0;34m)\u001b[0m\u001b[0;34m\u001b[0m\u001b[0;34m\u001b[0m\u001b[0m\n\u001b[0m\u001b[1;32m     14\u001b[0m     \u001b[0my\u001b[0m \u001b[0;34m=\u001b[0m \u001b[0mlist\u001b[0m\u001b[0;34m(\u001b[0m\u001b[0mcountryDF\u001b[0m\u001b[0;34m[\u001b[0m\u001b[0mparam\u001b[0m\u001b[0;34m]\u001b[0m\u001b[0;34m.\u001b[0m\u001b[0mastype\u001b[0m\u001b[0;34m(\u001b[0m\u001b[0mint\u001b[0m\u001b[0;34m)\u001b[0m\u001b[0;34m)\u001b[0m\u001b[0;34m\u001b[0m\u001b[0;34m\u001b[0m\u001b[0m\n\u001b[1;32m     15\u001b[0m     \u001b[0mplt\u001b[0m\u001b[0;34m.\u001b[0m\u001b[0mplot\u001b[0m\u001b[0;34m(\u001b[0m\u001b[0mx\u001b[0m\u001b[0;34m,\u001b[0m\u001b[0my\u001b[0m\u001b[0;34m)\u001b[0m\u001b[0;34m\u001b[0m\u001b[0;34m\u001b[0m\u001b[0m\n",
      "\u001b[0;31mTypeError\u001b[0m: string indices must be integers"
     ]
    }
   ],
   "source": [
    "graphProgression(searchCountry(\"japan\"),\"Confirmed\")"
   ]
  },
  {
   "cell_type": "code",
   "execution_count": null,
   "metadata": {},
   "outputs": [],
   "source": []
  }
 ],
 "metadata": {
  "kernelspec": {
   "display_name": "Python 3",
   "language": "python",
   "name": "python3"
  },
  "language_info": {
   "codemirror_mode": {
    "name": "ipython",
    "version": 3
   },
   "file_extension": ".py",
   "mimetype": "text/x-python",
   "name": "python",
   "nbconvert_exporter": "python",
   "pygments_lexer": "ipython3",
   "version": "3.7.4"
  }
 },
 "nbformat": 4,
 "nbformat_minor": 2
}
